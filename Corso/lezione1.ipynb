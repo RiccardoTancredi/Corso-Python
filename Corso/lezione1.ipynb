{
 "cells": [
  {
   "cell_type": "markdown",
   "metadata": {},
   "source": [
    "# <div style=\"text-align: center\"> Corso di Python: Collegio Mazza  A.A. 2023-2024 </div>\n",
    "\n",
    "## <div style=\"text-align: center\"> Commissione Informatica: 19/03/2024 </div>\n",
    "\n",
    "# <div style=\"text-align: center\"> Python Liste & `Numpy` array </div>"
   ]
  },
  {
   "cell_type": "markdown",
   "metadata": {},
   "source": [
    "### Cos'è una lista e cos'è un `Numpy array`? "
   ]
  },
  {
   "cell_type": "code",
   "execution_count": 1,
   "metadata": {},
   "outputs": [
    {
     "data": {
      "text/plain": [
       "[0, 1, 3, 'a', 'ciao']"
      ]
     },
     "execution_count": 1,
     "metadata": {},
     "output_type": "execute_result"
    }
   ],
   "source": [
    "lista = [0, 1, 3, 'a', 'ciao']  # contenitore di elementi di diverso tipo\n",
    "lista"
   ]
  },
  {
   "cell_type": "code",
   "execution_count": 2,
   "metadata": {},
   "outputs": [],
   "source": [
    "import numpy as np"
   ]
  },
  {
   "cell_type": "code",
   "execution_count": 3,
   "metadata": {},
   "outputs": [
    {
     "data": {
      "text/plain": [
       "array(['0', '1', '3', 'a', 'ciao'], dtype='<U11')"
      ]
     },
     "execution_count": 3,
     "metadata": {},
     "output_type": "execute_result"
    }
   ],
   "source": [
    "array = np.array(lista)\n",
    "array   # converte tutto in elementi di un unico tipo: perché?"
   ]
  },
  {
   "cell_type": "code",
   "execution_count": 4,
   "metadata": {},
   "outputs": [
    {
     "data": {
      "text/plain": [
       "array([1, 2, 3, 4, 5, 6])"
      ]
     },
     "execution_count": 4,
     "metadata": {},
     "output_type": "execute_result"
    }
   ],
   "source": [
    "array = np.array([1, 2, 3, 4, 5, 6])\n",
    "array"
   ]
  },
  {
   "cell_type": "markdown",
   "metadata": {},
   "source": [
    "Qual è il vantaggio di usare un Numpy array rispetto ad una tradizionale lista in python? L'ottimizzazione"
   ]
  },
  {
   "cell_type": "code",
   "execution_count": 5,
   "metadata": {},
   "outputs": [
    {
     "data": {
      "text/plain": [
       "array([[0, 0, 5],\n",
       "       [0, 0, 0]])"
      ]
     },
     "execution_count": 5,
     "metadata": {},
     "output_type": "execute_result"
    }
   ],
   "source": [
    "array = np.zeros(shape=6, dtype=int)\n",
    "array[2] = 5\n",
    "array\n",
    "array.shape\n",
    "array = array.reshape(2, 3)\n",
    "array"
   ]
  },
  {
   "cell_type": "markdown",
   "metadata": {},
   "source": [
    "Ripassiamo cos'è un `for loop`"
   ]
  },
  {
   "cell_type": "code",
   "execution_count": 6,
   "metadata": {},
   "outputs": [
    {
     "name": "stdout",
     "output_type": "stream",
     "text": [
      "0\n",
      "1\n",
      "3\n",
      "a\n",
      "ciao\n",
      "0 [0 0 5]\n",
      "1 [0 0 0]\n"
     ]
    }
   ],
   "source": [
    "for el in lista:\n",
    "    print(el)\n",
    "\n",
    "for i, el in enumerate(array):\n",
    "    print(i, el)"
   ]
  },
  {
   "cell_type": "markdown",
   "metadata": {},
   "source": [
    "1. Esercizio: Scrivere una funzione/codice che prenda il quadrato di tutti gli elementi di un array in python. Utilizza come array:\n",
    "    * Una lista python;\n",
    "    * Un Numpy array.\n",
    "2. Esercizio: Continuando l'esercizio sopra, somma tutti i numeri dell'array."
   ]
  },
  {
   "cell_type": "code",
   "execution_count": null,
   "metadata": {},
   "outputs": [],
   "source": []
  },
  {
   "cell_type": "markdown",
   "metadata": {},
   "source": [
    "3. Trovare: \n",
    "    * Numero di righe;\n",
    "    * Numero di colonne;\n",
    "    * Media totale e per riga/colonna\n",
    "    del seguente array\n",
    "\n",
    "    ```python\n",
    "    m = np.arange(12).reshape((3, 4))\n",
    "    ```"
   ]
  },
  {
   "cell_type": "code",
   "execution_count": null,
   "metadata": {},
   "outputs": [],
   "source": []
  },
  {
   "cell_type": "markdown",
   "metadata": {},
   "source": [
    "### Da un array posso creare una matrice e/o un tensore? "
   ]
  },
  {
   "cell_type": "code",
   "execution_count": null,
   "metadata": {},
   "outputs": [],
   "source": []
  },
  {
   "cell_type": "code",
   "execution_count": 7,
   "metadata": {},
   "outputs": [
    {
     "data": {
      "text/plain": [
       "array([[0.98473755, 0.02411954, 0.59030794, 0.21345877, 0.2670087 ,\n",
       "        0.97885427, 0.38591143, 0.08315964, 0.12061367, 0.37870526],\n",
       "       [0.67085896, 0.59024632, 0.01657667, 0.68444312, 0.55679744,\n",
       "        0.6537002 , 0.60327153, 0.88699786, 0.92651813, 0.94189362],\n",
       "       [0.53769739, 0.74188835, 0.20231346, 0.44420625, 0.5452683 ,\n",
       "        0.63775342, 0.82747138, 0.87134906, 0.16488366, 0.25884835],\n",
       "       [0.23350462, 0.51858126, 0.73062534, 0.21371953, 0.36635623,\n",
       "        0.38820946, 0.07839505, 0.24908151, 0.38031449, 0.96076526]])"
      ]
     },
     "execution_count": 7,
     "metadata": {},
     "output_type": "execute_result"
    }
   ],
   "source": [
    "# generate 4 sequences of 10 random numbers (flat between 0 and 1)\n",
    "n, p = 10, 4\n",
    "v = np.random.random((p, n))\n",
    "v"
   ]
  },
  {
   "cell_type": "code",
   "execution_count": 8,
   "metadata": {},
   "outputs": [
    {
     "data": {
      "text/plain": [
       "array([[ 1.20666896e-01, -2.61959731e-02, -7.28176745e-03,\n",
       "        -1.13813410e-04],\n",
       "       [-2.61959731e-02,  7.05594614e-02,  8.68757389e-03,\n",
       "        -9.57572362e-03],\n",
       "       [-7.28176745e-03,  8.68757389e-03,  6.47681858e-02,\n",
       "        -4.01702003e-02],\n",
       "       [-1.13813410e-04, -9.57572362e-03, -4.01702003e-02,\n",
       "         6.96320803e-02]])"
      ]
     },
     "execution_count": 8,
     "metadata": {},
     "output_type": "execute_result"
    }
   ],
   "source": [
    "np.cov(v)"
   ]
  },
  {
   "cell_type": "code",
   "execution_count": null,
   "metadata": {},
   "outputs": [],
   "source": []
  },
  {
   "cell_type": "markdown",
   "metadata": {},
   "source": [
    "### Traces and determinants"
   ]
  },
  {
   "cell_type": "code",
   "execution_count": 9,
   "metadata": {},
   "outputs": [
    {
     "data": {
      "text/plain": [
       "(3.0, 3.0, 0.0, array([1., 1., 1.]))"
      ]
     },
     "execution_count": 9,
     "metadata": {},
     "output_type": "execute_result"
    }
   ],
   "source": [
    "A = np.ones(shape=(3, 3))\n",
    "A.trace(), np.trace(A), np.linalg.det(A), np.diag(A)"
   ]
  },
  {
   "cell_type": "code",
   "execution_count": 10,
   "metadata": {},
   "outputs": [
    {
     "name": "stdout",
     "output_type": "stream",
     "text": [
      "[[18 95 81  7 39 10]\n",
      " [55 83 64 68 57 79]\n",
      " [33 35 39 98 34 97]\n",
      " [16 46 35 88 89 67]\n",
      " [56 28 91 56  8  9]\n",
      " [38 26 14 95 64 60]] \n",
      "\n",
      "determinant: 27458485612.99993 \n",
      "\n",
      "trace: 296 \n",
      "\n"
     ]
    }
   ],
   "source": [
    "n = 6\n",
    "M = np.random.randint(100, size=(n,n))\n",
    "print(M, '\\n')\n",
    "print('determinant:', np.linalg.det(M), '\\n')\n",
    "print('trace:', M.trace(), '\\n')"
   ]
  },
  {
   "cell_type": "markdown",
   "metadata": {},
   "source": [
    "### Autovalori e autovettori"
   ]
  },
  {
   "cell_type": "code",
   "execution_count": 11,
   "metadata": {},
   "outputs": [
    {
     "name": "stdout",
     "output_type": "stream",
     "text": [
      "A matrix: \n",
      "[[0 1 1]\n",
      " [2 1 0]\n",
      " [3 4 5]]\n",
      "det(A) = -5.000000000000002\n",
      "\n",
      "A eigenvectors:\n",
      "[[ 1.80228488e-01  6.72063326e-01 -2.06609884e-16]\n",
      " [ 7.42582208e-02 -7.24947536e-01 -7.07106781e-01]\n",
      " [ 9.80817725e-01  1.50936928e-01  7.07106781e-01]]\n",
      "A eigenvalues:\n",
      "[ 5.85410197 -0.85410197  1.        ]\n"
     ]
    }
   ],
   "source": [
    "A = np.array([[0, 1, 1], [2, 1, 0], [3, 4, 5]])\n",
    "print(f'A matrix: \\n{A}')\n",
    "print(f'det(A) = {np.linalg.det(A)}\\n')\n",
    "\n",
    "\n",
    "l, V = np.linalg.eig(A)\n",
    "print(f'A eigenvectors:\\n{V}')\n",
    "print(f'A eigenvalues:\\n{l}')"
   ]
  },
  {
   "cell_type": "markdown",
   "metadata": {},
   "source": [
    "### Abbiamo così risolto il problema $$\\mathbb{A}\\cdot \\vec{v}_i = \\lambda_i \\cdot \\vec{v}_i,$$ trovando la matrice $\\mathbb{V}$ che ha per colonne gli autovettori di A: \n",
    "\n",
    "\\begin{equation*}\n",
    "    \\mathbb{V} = \n",
    "    \\begin{bmatrix}\n",
    "        v_1^{(1)} & v_2^{(1)} & v_3^{(1)} \\\\ \n",
    "        v_1^{(2)} & v_2^{(2)} & v_3^{(2)} \\\\ \n",
    "        v_1^{(3)} & v_2^{(3)} & v_3^{(3)}  \n",
    "    \\end{bmatrix}\n",
    "\\end{equation*}\n",
    "\n",
    "### pertanto abbiamo risolto il problema $$ \\mathbb{A}\\cdot \\mathbb{V} = \\mathbb{V} \\cdot \\Lambda,$$ dove $\\Lambda$ è la matrice diagonale di autovalori. Si può riottenere la matrice $ \\mathbb{A}$ di partenza invertendo questa relazione: $$\\boxed{\\mathbb{A} = \\mathbb{V} \\cdot \\Lambda \\cdot \\mathbb{V}^{-1}} $$ "
   ]
  },
  {
   "cell_type": "code",
   "execution_count": 12,
   "metadata": {},
   "outputs": [
    {
     "data": {
      "text/plain": [
       "array([[ 5.92791796e-16,  1.00000000e+00,  1.00000000e+00],\n",
       "       [ 2.00000000e+00,  1.00000000e+00, -4.69761657e-16],\n",
       "       [ 3.00000000e+00,  4.00000000e+00,  5.00000000e+00]])"
      ]
     },
     "execution_count": 12,
     "metadata": {},
     "output_type": "execute_result"
    }
   ],
   "source": [
    "Lambda = np.zeros_like(V)\n",
    "np.fill_diagonal(Lambda, l)\n",
    "V @ Lambda @ np.linalg.inv(V)"
   ]
  },
  {
   "cell_type": "code",
   "execution_count": 13,
   "metadata": {},
   "outputs": [
    {
     "data": {
      "text/plain": [
       "array([[ 7.03814098e-16,  1.00000000e+00,  1.00000000e+00],\n",
       "       [ 2.00000000e+00,  1.00000000e+00, -4.93155865e-16],\n",
       "       [ 3.00000000e+00,  4.00000000e+00,  5.00000000e+00]])"
      ]
     },
     "execution_count": 13,
     "metadata": {},
     "output_type": "execute_result"
    }
   ],
   "source": [
    "np.dot(V, np.dot(np.diag(np.real_if_close(l)), np.linalg.inv(V)))"
   ]
  },
  {
   "cell_type": "code",
   "execution_count": null,
   "metadata": {},
   "outputs": [],
   "source": []
  },
  {
   "cell_type": "markdown",
   "metadata": {},
   "source": [
    "4. Esercizio: Usando `np.linspace`, crea un array di 100 numeri tra nell'intervallo $[0, 2\\pi]$ (estremi inclusi).\n",
    "    * Estrai i valori ogni **10** elementi;\n",
    "    * Inverti l'array;\n",
    "    * Estrai gli elementi la cui differenza in valore assoluto tra le funzioni `sin()` e `cos()` (valutate nello stesso elemento) è più piccola di 0.1: \n",
    "    $$\\vert\\sin(\\theta)-\\cos(\\theta)\\vert < 0.1, \\quad \\forall \\theta \\in \\text{array}$$"
   ]
  },
  {
   "cell_type": "code",
   "execution_count": 14,
   "metadata": {},
   "outputs": [
    {
     "data": {
      "text/plain": [
       "array([0.76171943, 0.82519605, 3.87207378, 3.93555039])"
      ]
     },
     "execution_count": 14,
     "metadata": {},
     "output_type": "execute_result"
    }
   ],
   "source": [
    "array = np.linspace(0, 2.*np.pi+1/1000, 100)\n",
    "array[::10]\n",
    "array[::-1]\n",
    "mask = [index for index, theta in enumerate(array) if np.abs(np.sin(theta)-np.cos(theta)) < 0.1]\n",
    "array[mask]"
   ]
  },
  {
   "cell_type": "code",
   "execution_count": null,
   "metadata": {},
   "outputs": [],
   "source": []
  },
  {
   "cell_type": "markdown",
   "metadata": {},
   "source": [
    "5. Esercizio: Crea una matrice contenente le prime 10 tabelline. \n",
    "    * Calcolane la traccia;\n",
    "    * Estraine la diagonale maggiore e l'anti-diagonale maggiore "
   ]
  },
  {
   "cell_type": "code",
   "execution_count": 15,
   "metadata": {},
   "outputs": [
    {
     "data": {
      "text/plain": [
       "array([[  1,   2,   3,   4,   5,   6,   7,   8,   9,  10],\n",
       "       [  2,   4,   6,   8,  10,  12,  14,  16,  18,  20],\n",
       "       [  3,   6,   9,  12,  15,  18,  21,  24,  27,  30],\n",
       "       [  4,   8,  12,  16,  20,  24,  28,  32,  36,  40],\n",
       "       [  5,  10,  15,  20,  25,  30,  35,  40,  45,  50],\n",
       "       [  6,  12,  18,  24,  30,  36,  42,  48,  54,  60],\n",
       "       [  7,  14,  21,  28,  35,  42,  49,  56,  63,  70],\n",
       "       [  8,  16,  24,  32,  40,  48,  56,  64,  72,  80],\n",
       "       [  9,  18,  27,  36,  45,  54,  63,  72,  81,  90],\n",
       "       [ 10,  20,  30,  40,  50,  60,  70,  80,  90, 100]])"
      ]
     },
     "execution_count": 15,
     "metadata": {},
     "output_type": "execute_result"
    }
   ],
   "source": [
    "tabelline_in = np.array(range(1, 11))\n",
    "tabelline = np.outer(tabelline_in, tabelline_in)\n",
    "# in alternativa:\n",
    "tabelline = [[t*val for t in tabelline_in] for val in tabelline_in]\n",
    "tabelline = np.array(tabelline)\n",
    "tabelline"
   ]
  },
  {
   "cell_type": "code",
   "execution_count": 16,
   "metadata": {},
   "outputs": [
    {
     "data": {
      "text/plain": [
       "(array([  1,   4,   9,  16,  25,  36,  49,  64,  81, 100]),\n",
       " array([10, 18, 24, 28, 30, 30, 28, 24, 18, 10]))"
      ]
     },
     "execution_count": 16,
     "metadata": {},
     "output_type": "execute_result"
    }
   ],
   "source": [
    "np.diag(tabelline), np.diag(tabelline[::-1])"
   ]
  },
  {
   "cell_type": "code",
   "execution_count": null,
   "metadata": {},
   "outputs": [],
   "source": []
  },
  {
   "cell_type": "markdown",
   "metadata": {},
   "source": [
    "6. Esercizio: Crea **3** matrici $\\mathcal{M}_{3\\times 3}$ random (usa il modulo `np.random`):\n",
    "    * Trova la matrice data dal prodotto delle 3 matrici;\n",
    "    * Prova che la traccia della matrice così ottenuta è uguale alla somma dei suoi autovalori;\n",
    "    * Prova che il determinante della matrice così ottenuta è pari al prodotto dei suoi autovalori.  "
   ]
  },
  {
   "cell_type": "code",
   "execution_count": 17,
   "metadata": {},
   "outputs": [
    {
     "name": "stdout",
     "output_type": "stream",
     "text": [
      "Matrix trace = 4.255714850459592\n",
      "Sum of eigenvalues = 4.255714850459595\n",
      "Matrix determinat = -0.21928283741760474\n",
      "Product of eigenvalues = -0.2192828374176049\n"
     ]
    }
   ],
   "source": [
    "a = np.random.normal(size=(3, 3))\n",
    "b = np.random.normal(size=(3, 3))\n",
    "c = np.random.normal(size=(3, 3))\n",
    "matrix = a @ b @ c\n",
    "\n",
    "eig, _ = np.linalg.eig(matrix)\n",
    "print(f'Matrix trace = {np.trace(matrix)}\\nSum of eigenvalues = {np.sum(eig)}')\n",
    "print(f'Matrix determinat = {np.linalg.det(matrix)}\\nProduct of eigenvalues = {np.prod(eig)}')"
   ]
  },
  {
   "cell_type": "code",
   "execution_count": null,
   "metadata": {},
   "outputs": [],
   "source": []
  }
 ],
 "metadata": {
  "kernelspec": {
   "display_name": "base",
   "language": "python",
   "name": "python3"
  },
  "language_info": {
   "codemirror_mode": {
    "name": "ipython",
    "version": 3
   },
   "file_extension": ".py",
   "mimetype": "text/x-python",
   "name": "python",
   "nbconvert_exporter": "python",
   "pygments_lexer": "ipython3",
   "version": "3.7.13"
  }
 },
 "nbformat": 4,
 "nbformat_minor": 2
}
