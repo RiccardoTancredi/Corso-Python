{
 "cells": [
  {
   "cell_type": "markdown",
   "metadata": {},
   "source": [
    "# <div style=\"text-align: center\"> Corso di Python: Collegio Mazza  A.A. 2023-2024 </div>\n",
    "\n",
    "## <div style=\"text-align: center\"> Commissione Informatica: 25/03/2024 </div>\n",
    "\n",
    "# <div style=\"text-align: center\"> Plot e grafici in `Matplotlib` </div>"
   ]
  },
  {
   "cell_type": "code",
   "execution_count": null,
   "metadata": {},
   "outputs": [],
   "source": []
  },
  {
   "cell_type": "markdown",
   "metadata": {},
   "source": [
    "<p align=\"center\">\n",
    "    <img src=\"https://files.realpython.com/media/fig_map.bc8c7cabd823.png\" alt=\"Alt text\" >\n",
    "</p>"
   ]
  },
  {
   "cell_type": "markdown",
   "metadata": {},
   "source": [
    "<p align=\"center\">\n",
    "  <img src=\"img/bel_plot.png\" alt=\"Testo alternativo 2\" style=\"display:inline-block; width:600px;\" >\n",
    "</p>"
   ]
  },
  {
   "cell_type": "code",
   "execution_count": 1,
   "metadata": {},
   "outputs": [],
   "source": [
    "# magic method\n",
    "%matplotlib inline  \n",
    "\n",
    "import numpy as np\n",
    "import matplotlib.pyplot as plt"
   ]
  },
  {
   "cell_type": "markdown",
   "metadata": {},
   "source": [
    "## Istogrammi"
   ]
  },
  {
   "cell_type": "markdown",
   "metadata": {},
   "source": [
    "* Come posso fare un plot sopra un altro plot? È possibile?"
   ]
  },
  {
   "cell_type": "code",
   "execution_count": null,
   "metadata": {},
   "outputs": [],
   "source": []
  },
  {
   "cell_type": "markdown",
   "metadata": {},
   "source": [
    "1. Esercizio: \n",
    "    * Genera dei dati distribuiti esponezialmente (per semplicitià puoi lasciare $\\lambda = 1 = 1/\\beta$);\n",
    "    * Sovrimponi una curva esponeziale di colore viola, tratteggiata e con spessore della linea pari a **3**;\n",
    "    * Cambia la scala di visualizzazione in logaritmica in modo tale che la curva precedente diventi una retta: \n",
    "        * cerca come si usano i metodi `plt.xscale()` e/o `plt.yscale()`."
   ]
  },
  {
   "cell_type": "code",
   "execution_count": null,
   "metadata": {},
   "outputs": [],
   "source": []
  },
  {
   "cell_type": "markdown",
   "metadata": {},
   "source": [
    "## Plot"
   ]
  },
  {
   "cell_type": "code",
   "execution_count": null,
   "metadata": {},
   "outputs": [],
   "source": []
  }
 ],
 "metadata": {
  "kernelspec": {
   "display_name": "base",
   "language": "python",
   "name": "python3"
  },
  "language_info": {
   "codemirror_mode": {
    "name": "ipython",
    "version": 3
   },
   "file_extension": ".py",
   "mimetype": "text/x-python",
   "name": "python",
   "nbconvert_exporter": "python",
   "pygments_lexer": "ipython3",
   "version": "3.7.13"
  }
 },
 "nbformat": 4,
 "nbformat_minor": 2
}
