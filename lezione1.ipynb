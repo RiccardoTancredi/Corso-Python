{
 "cells": [
  {
   "cell_type": "markdown",
   "metadata": {},
   "source": [
    "# <div style=\"text-align: center\"> Corso di Python: Collegio Mazza  A.A. 2023-2024 </div>\n",
    "\n",
    "## <div style=\"text-align: center\"> Commissione Informatica: 19/03/2024 </div>\n",
    "\n",
    "# <div style=\"text-align: center\"> Python Liste & `Numpy` array </div>"
   ]
  },
  {
   "cell_type": "markdown",
   "metadata": {},
   "source": [
    "### Cos'è una lista e cos'è un `Numpy array`? "
   ]
  },
  {
   "cell_type": "code",
   "execution_count": null,
   "metadata": {},
   "outputs": [],
   "source": []
  },
  {
   "cell_type": "code",
   "execution_count": 1,
   "metadata": {},
   "outputs": [],
   "source": [
    "import numpy as np"
   ]
  },
  {
   "cell_type": "code",
   "execution_count": null,
   "metadata": {},
   "outputs": [],
   "source": []
  },
  {
   "cell_type": "code",
   "execution_count": null,
   "metadata": {},
   "outputs": [],
   "source": []
  },
  {
   "cell_type": "markdown",
   "metadata": {},
   "source": [
    "Qual è il vantaggio di usare un Numpy array rispetto ad una tradizionale lista in python? L'ottimizzazione"
   ]
  },
  {
   "cell_type": "code",
   "execution_count": null,
   "metadata": {},
   "outputs": [],
   "source": []
  },
  {
   "cell_type": "markdown",
   "metadata": {},
   "source": [
    "Ripassiamo cos'è un `for loop`"
   ]
  },
  {
   "cell_type": "code",
   "execution_count": null,
   "metadata": {},
   "outputs": [],
   "source": []
  },
  {
   "cell_type": "markdown",
   "metadata": {},
   "source": [
    "1. Esercizio: Scrivere una funzione/codice che prenda il quadrato di tutti gli elementi di un array in python. Utilizza come array:\n",
    "    * Una lista python;\n",
    "    * Un Numpy array.\n",
    "2. Esercizio: Continuando l'esercizio sopra, somma tutti i numeri dell'array."
   ]
  },
  {
   "cell_type": "code",
   "execution_count": 12,
   "metadata": {},
   "outputs": [
    {
     "data": {
      "text/plain": [
       "[1, 4, 9, 16, 25, 36]"
      ]
     },
     "execution_count": 12,
     "metadata": {},
     "output_type": "execute_result"
    }
   ],
   "source": [
    "lista = [1, 2, 3, 4, 5, 6]\n",
    "lista_res = []\n",
    "for el in lista:\n",
    "    lista_res.append(el**2)\n",
    "lista_res"
   ]
  },
  {
   "cell_type": "code",
   "execution_count": 20,
   "metadata": {},
   "outputs": [
    {
     "data": {
      "text/plain": [
       "array([ 1,  4,  9, 16, 25, 36], dtype=int32)"
      ]
     },
     "execution_count": 20,
     "metadata": {},
     "output_type": "execute_result"
    }
   ],
   "source": [
    "array = np.array(lista)\n",
    "array_res = array ** 2\n",
    "array_res"
   ]
  },
  {
   "cell_type": "code",
   "execution_count": 14,
   "metadata": {},
   "outputs": [
    {
     "data": {
      "text/plain": [
       "91"
      ]
     },
     "execution_count": 14,
     "metadata": {},
     "output_type": "execute_result"
    }
   ],
   "source": [
    "somma = 0\n",
    "for el in lista_res:\n",
    "    somma += el\n",
    "somma"
   ]
  },
  {
   "cell_type": "code",
   "execution_count": 27,
   "metadata": {},
   "outputs": [
    {
     "data": {
      "text/plain": [
       "91"
      ]
     },
     "execution_count": 27,
     "metadata": {},
     "output_type": "execute_result"
    }
   ],
   "source": [
    "np.sum(lista_res)"
   ]
  },
  {
   "cell_type": "code",
   "execution_count": 21,
   "metadata": {},
   "outputs": [
    {
     "data": {
      "text/plain": [
       "91"
      ]
     },
     "execution_count": 21,
     "metadata": {},
     "output_type": "execute_result"
    }
   ],
   "source": [
    "array_res.sum()"
   ]
  },
  {
   "cell_type": "code",
   "execution_count": 29,
   "metadata": {},
   "outputs": [
    {
     "data": {
      "text/plain": [
       "(array([[ 1,  4,  9],\n",
       "        [16, 25, 36]], dtype=int32),\n",
       " array([17, 29, 45], dtype=int32))"
      ]
     },
     "execution_count": 29,
     "metadata": {},
     "output_type": "execute_result"
    }
   ],
   "source": [
    "array_res = array_res.reshape((2, 3))\n",
    "array_res, array_res.sum(axis=0)"
   ]
  },
  {
   "cell_type": "code",
   "execution_count": 31,
   "metadata": {},
   "outputs": [],
   "source": [
    "dati = np.random.normal(size=(100, 10))\n",
    "np.savetxt('dati.txt', dati)"
   ]
  },
  {
   "cell_type": "code",
   "execution_count": 33,
   "metadata": {},
   "outputs": [
    {
     "data": {
      "text/plain": [
       "(100, 10)"
      ]
     },
     "execution_count": 33,
     "metadata": {},
     "output_type": "execute_result"
    }
   ],
   "source": [
    "import_dati = np.loadtxt('dati.txt')\n",
    "import_dati.shape"
   ]
  },
  {
   "cell_type": "code",
   "execution_count": null,
   "metadata": {},
   "outputs": [],
   "source": []
  },
  {
   "cell_type": "markdown",
   "metadata": {},
   "source": [
    "3. Esercizio: Trovare: \n",
    "    * Numero di righe;\n",
    "    * Numero di colonne;\n",
    "    * Media totale e per riga/colonna\n",
    "    del seguente array\n",
    "\n",
    "    ```python\n",
    "    m = np.arange(12).reshape((3, 4))\n",
    "    ```"
   ]
  },
  {
   "cell_type": "code",
   "execution_count": 40,
   "metadata": {},
   "outputs": [
    {
     "name": "stdout",
     "output_type": "stream",
     "text": [
      "Il numero di righe della matrice m è 3\n",
      "Il numero delle colonne della matrice m è 4\n"
     ]
    }
   ],
   "source": [
    "m = np.arange(12).reshape((3, 4))\n",
    "print(\"Il numero di righe della matrice m è\", m.shape[0])\n",
    "print(\"Il numero delle colonne della matrice m è\", m.shape[1])"
   ]
  },
  {
   "cell_type": "code",
   "execution_count": 43,
   "metadata": {},
   "outputs": [
    {
     "data": {
      "text/plain": [
       "(5.5, array([4., 5., 6., 7.]), array([1.5, 5.5, 9.5]))"
      ]
     },
     "execution_count": 43,
     "metadata": {},
     "output_type": "execute_result"
    }
   ],
   "source": [
    "m.mean(), m.mean(axis=0), m.mean(axis=1)"
   ]
  },
  {
   "cell_type": "code",
   "execution_count": null,
   "metadata": {},
   "outputs": [],
   "source": []
  },
  {
   "cell_type": "markdown",
   "metadata": {},
   "source": [
    "### Da un array posso creare una matrice e/o un tensore? "
   ]
  },
  {
   "cell_type": "code",
   "execution_count": null,
   "metadata": {},
   "outputs": [],
   "source": []
  },
  {
   "cell_type": "code",
   "execution_count": null,
   "metadata": {},
   "outputs": [],
   "source": []
  },
  {
   "cell_type": "code",
   "execution_count": null,
   "metadata": {},
   "outputs": [],
   "source": []
  },
  {
   "cell_type": "markdown",
   "metadata": {},
   "source": [
    "### Traces and determinants"
   ]
  },
  {
   "cell_type": "code",
   "execution_count": null,
   "metadata": {},
   "outputs": [],
   "source": []
  },
  {
   "cell_type": "code",
   "execution_count": null,
   "metadata": {},
   "outputs": [],
   "source": []
  },
  {
   "cell_type": "markdown",
   "metadata": {},
   "source": [
    "### Autovalori e autovettori"
   ]
  },
  {
   "cell_type": "code",
   "execution_count": null,
   "metadata": {},
   "outputs": [],
   "source": []
  },
  {
   "cell_type": "code",
   "execution_count": null,
   "metadata": {},
   "outputs": [],
   "source": []
  },
  {
   "cell_type": "code",
   "execution_count": null,
   "metadata": {},
   "outputs": [],
   "source": []
  },
  {
   "cell_type": "code",
   "execution_count": null,
   "metadata": {},
   "outputs": [],
   "source": []
  },
  {
   "cell_type": "markdown",
   "metadata": {},
   "source": [
    "### Abbiamo così risolto il problema $$\\mathbb{A}\\cdot \\vec{v}_i = \\lambda_i \\cdot \\vec{v}_i,$$ trovando la matrice $\\mathbb{V}$ che ha per colonne gli autovettori di A: \n",
    "\n",
    "\\begin{equation*}\n",
    "    \\mathbb{V} = \n",
    "    \\begin{bmatrix}\n",
    "        v_1^{(1)} & v_2^{(1)} & v_3^{(1)} \\\\ \n",
    "        v_1^{(2)} & v_2^{(2)} & v_3^{(2)} \\\\ \n",
    "        v_1^{(3)} & v_2^{(3)} & v_3^{(3)}  \n",
    "    \\end{bmatrix}\n",
    "\\end{equation*}\n",
    "\n",
    "### pertanto abbiamo risolto il problema $$ \\mathbb{A}\\cdot \\mathbb{V} = \\mathbb{V} \\cdot \\Lambda,$$ dove $\\Lambda$ è la matrice diagonale di autovalori. Si può riottenere la matrice $ \\mathbb{A}$ di partenza invertendo questa relazione: $$\\boxed{\\mathbb{A} = \\mathbb{V} \\cdot \\Lambda \\cdot \\mathbb{V}^{-1}} $$ "
   ]
  },
  {
   "cell_type": "code",
   "execution_count": null,
   "metadata": {},
   "outputs": [],
   "source": []
  },
  {
   "cell_type": "code",
   "execution_count": null,
   "metadata": {},
   "outputs": [],
   "source": []
  },
  {
   "cell_type": "code",
   "execution_count": null,
   "metadata": {},
   "outputs": [],
   "source": []
  },
  {
   "cell_type": "markdown",
   "metadata": {},
   "source": [
    "4. Esercizio: Usando `np.linspace`, crea un array di 100 numeri tra nell'intervallo $[0, 2\\pi]$ (estremi inclusi).\n",
    "    * Estrai i valori ogni **10** elementi;\n",
    "    * Inverti l'array;\n",
    "    * Estrai gli elementi la cui differenza in valore assoluto tra le funzioni `sin()` e `cos()` (valutate nello stesso elemento) è più piccola di 0.1: \n",
    "    $$\\vert\\sin(\\theta)-\\cos(\\theta)\\vert < 0.1, \\quad \\forall \\theta \\in \\text{array}$$"
   ]
  },
  {
   "cell_type": "markdown",
   "metadata": {},
   "source": [
    "5. Esercizio: Crea una matrice contenente le prime 10 tabelline. \n",
    "    * Calcolane la traccia;\n",
    "    * Estraine la diagonale maggiore e l'anti-diagonale maggiore "
   ]
  },
  {
   "cell_type": "markdown",
   "metadata": {},
   "source": [
    "6. Esercizio: Crea **3** matrici $\\mathcal{M}_{3\\times 3}$ random (usa il modulo `np.random`):\n",
    "    * Trova la matrice data dal prodotto delle 3 matrici;\n",
    "    * Prova che la traccia della matrice così ottenuta è uguale alla somma dei suoi autovalori;\n",
    "    * Prova che il determinante della matrice così ottenuta è pari al prodotto dei suoi autovalori.  "
   ]
  },
  {
   "cell_type": "code",
   "execution_count": null,
   "metadata": {},
   "outputs": [],
   "source": []
  },
  {
   "cell_type": "code",
   "execution_count": null,
   "metadata": {},
   "outputs": [],
   "source": []
  },
  {
   "cell_type": "code",
   "execution_count": null,
   "metadata": {},
   "outputs": [],
   "source": []
  }
 ],
 "metadata": {
  "kernelspec": {
   "display_name": "base",
   "language": "python",
   "name": "python3"
  },
  "language_info": {
   "codemirror_mode": {
    "name": "ipython",
    "version": 3
   },
   "file_extension": ".py",
   "mimetype": "text/x-python",
   "name": "python",
   "nbconvert_exporter": "python",
   "pygments_lexer": "ipython3",
   "version": "3.7.13"
  }
 },
 "nbformat": 4,
 "nbformat_minor": 2
}
