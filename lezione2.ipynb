{
 "cells": [
  {
   "cell_type": "markdown",
   "metadata": {},
   "source": [
    "# <div style=\"text-align: center\"> Corso di Python: Collegio Mazza  A.A. 2023-2024 </div>\n",
    "\n",
    "## <div style=\"text-align: center\"> Commissione Informatica: 25/03/2024 </div>\n",
    "\n",
    "# <div style=\"text-align: center\"> Plot e grafici in `Matplotlib` </div>"
   ]
  },
  {
   "cell_type": "code",
   "execution_count": null,
   "metadata": {},
   "outputs": [],
   "source": []
  }
 ],
 "metadata": {
  "language_info": {
   "name": "python"
  }
 },
 "nbformat": 4,
 "nbformat_minor": 2
}
